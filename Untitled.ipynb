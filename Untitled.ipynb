{
 "cells": [
  {
   "cell_type": "code",
   "execution_count": 4,
   "id": "2f786f3f-aba8-4060-b277-d05b45f1d56e",
   "metadata": {},
   "outputs": [],
   "source": [
    "from docking import make_pdbqt_gpf\n",
    "import subprocess"
   ]
  },
  {
   "cell_type": "code",
   "execution_count": 5,
   "id": "43c87b41-03f6-47e8-9883-6f186014a86e",
   "metadata": {},
   "outputs": [],
   "source": [
    "-------"
   ]
  },
  {
   "cell_type": "code",
   "execution_count": 8,
   "id": "220eb704-08ec-45eb-b37c-d6115722f044",
   "metadata": {},
   "outputs": [
    {
     "ename": "FileNotFoundError",
     "evalue": "[Errno 2] No such file or directory: 'mk_prepare_receptor.py --read_pdb ./examples/c-kit/1T46_cleaned.pdb -o r -p -v -g --box_enveloping ./examples/c-kit/STI.pdb --padding 5 -a --default_altloc A'",
     "output_type": "error",
     "traceback": [
      "\u001b[0;31m---------------------------------------------------------------------------\u001b[0m",
      "\u001b[0;31mFileNotFoundError\u001b[0m                         Traceback (most recent call last)",
      "Cell \u001b[0;32mIn[8], line 1\u001b[0m\n\u001b[0;32m----> 1\u001b[0m \u001b[43msubprocess\u001b[49m\u001b[38;5;241;43m.\u001b[39;49m\u001b[43mPopen\u001b[49m\u001b[43m(\u001b[49m\u001b[38;5;124;43mf\u001b[39;49m\u001b[38;5;124;43m\"\u001b[39;49m\u001b[38;5;124;43mmk_prepare_receptor.py --read_pdb \u001b[39;49m\u001b[38;5;132;43;01m{\u001b[39;49;00m\u001b[43mrc\u001b[49m\u001b[38;5;132;43;01m}\u001b[39;49;00m\u001b[38;5;124;43m -o r -p -v -g --box_enveloping \u001b[39;49m\u001b[38;5;132;43;01m{\u001b[39;49;00m\u001b[43mlg\u001b[49m\u001b[38;5;132;43;01m}\u001b[39;49;00m\u001b[38;5;124;43m --padding 5 -a --default_altloc A\u001b[39;49m\u001b[38;5;124;43m\"\u001b[39;49m\u001b[43m)\u001b[49m\n",
      "File \u001b[0;32m~/miniconda3/envs/cheminfoenv/lib/python3.12/subprocess.py:1026\u001b[0m, in \u001b[0;36mPopen.__init__\u001b[0;34m(self, args, bufsize, executable, stdin, stdout, stderr, preexec_fn, close_fds, shell, cwd, env, universal_newlines, startupinfo, creationflags, restore_signals, start_new_session, pass_fds, user, group, extra_groups, encoding, errors, text, umask, pipesize, process_group)\u001b[0m\n\u001b[1;32m   1022\u001b[0m         \u001b[38;5;28;01mif\u001b[39;00m \u001b[38;5;28mself\u001b[39m\u001b[38;5;241m.\u001b[39mtext_mode:\n\u001b[1;32m   1023\u001b[0m             \u001b[38;5;28mself\u001b[39m\u001b[38;5;241m.\u001b[39mstderr \u001b[38;5;241m=\u001b[39m io\u001b[38;5;241m.\u001b[39mTextIOWrapper(\u001b[38;5;28mself\u001b[39m\u001b[38;5;241m.\u001b[39mstderr,\n\u001b[1;32m   1024\u001b[0m                     encoding\u001b[38;5;241m=\u001b[39mencoding, errors\u001b[38;5;241m=\u001b[39merrors)\n\u001b[0;32m-> 1026\u001b[0m     \u001b[38;5;28;43mself\u001b[39;49m\u001b[38;5;241;43m.\u001b[39;49m\u001b[43m_execute_child\u001b[49m\u001b[43m(\u001b[49m\u001b[43margs\u001b[49m\u001b[43m,\u001b[49m\u001b[43m \u001b[49m\u001b[43mexecutable\u001b[49m\u001b[43m,\u001b[49m\u001b[43m \u001b[49m\u001b[43mpreexec_fn\u001b[49m\u001b[43m,\u001b[49m\u001b[43m \u001b[49m\u001b[43mclose_fds\u001b[49m\u001b[43m,\u001b[49m\n\u001b[1;32m   1027\u001b[0m \u001b[43m                        \u001b[49m\u001b[43mpass_fds\u001b[49m\u001b[43m,\u001b[49m\u001b[43m \u001b[49m\u001b[43mcwd\u001b[49m\u001b[43m,\u001b[49m\u001b[43m \u001b[49m\u001b[43menv\u001b[49m\u001b[43m,\u001b[49m\n\u001b[1;32m   1028\u001b[0m \u001b[43m                        \u001b[49m\u001b[43mstartupinfo\u001b[49m\u001b[43m,\u001b[49m\u001b[43m \u001b[49m\u001b[43mcreationflags\u001b[49m\u001b[43m,\u001b[49m\u001b[43m \u001b[49m\u001b[43mshell\u001b[49m\u001b[43m,\u001b[49m\n\u001b[1;32m   1029\u001b[0m \u001b[43m                        \u001b[49m\u001b[43mp2cread\u001b[49m\u001b[43m,\u001b[49m\u001b[43m \u001b[49m\u001b[43mp2cwrite\u001b[49m\u001b[43m,\u001b[49m\n\u001b[1;32m   1030\u001b[0m \u001b[43m                        \u001b[49m\u001b[43mc2pread\u001b[49m\u001b[43m,\u001b[49m\u001b[43m \u001b[49m\u001b[43mc2pwrite\u001b[49m\u001b[43m,\u001b[49m\n\u001b[1;32m   1031\u001b[0m \u001b[43m                        \u001b[49m\u001b[43merrread\u001b[49m\u001b[43m,\u001b[49m\u001b[43m \u001b[49m\u001b[43merrwrite\u001b[49m\u001b[43m,\u001b[49m\n\u001b[1;32m   1032\u001b[0m \u001b[43m                        \u001b[49m\u001b[43mrestore_signals\u001b[49m\u001b[43m,\u001b[49m\n\u001b[1;32m   1033\u001b[0m \u001b[43m                        \u001b[49m\u001b[43mgid\u001b[49m\u001b[43m,\u001b[49m\u001b[43m \u001b[49m\u001b[43mgids\u001b[49m\u001b[43m,\u001b[49m\u001b[43m \u001b[49m\u001b[43muid\u001b[49m\u001b[43m,\u001b[49m\u001b[43m \u001b[49m\u001b[43mumask\u001b[49m\u001b[43m,\u001b[49m\n\u001b[1;32m   1034\u001b[0m \u001b[43m                        \u001b[49m\u001b[43mstart_new_session\u001b[49m\u001b[43m,\u001b[49m\u001b[43m \u001b[49m\u001b[43mprocess_group\u001b[49m\u001b[43m)\u001b[49m\n\u001b[1;32m   1035\u001b[0m \u001b[38;5;28;01mexcept\u001b[39;00m:\n\u001b[1;32m   1036\u001b[0m     \u001b[38;5;66;03m# Cleanup if the child failed starting.\u001b[39;00m\n\u001b[1;32m   1037\u001b[0m     \u001b[38;5;28;01mfor\u001b[39;00m f \u001b[38;5;129;01min\u001b[39;00m \u001b[38;5;28mfilter\u001b[39m(\u001b[38;5;28;01mNone\u001b[39;00m, (\u001b[38;5;28mself\u001b[39m\u001b[38;5;241m.\u001b[39mstdin, \u001b[38;5;28mself\u001b[39m\u001b[38;5;241m.\u001b[39mstdout, \u001b[38;5;28mself\u001b[39m\u001b[38;5;241m.\u001b[39mstderr)):\n",
      "File \u001b[0;32m~/miniconda3/envs/cheminfoenv/lib/python3.12/subprocess.py:1955\u001b[0m, in \u001b[0;36mPopen._execute_child\u001b[0;34m(self, args, executable, preexec_fn, close_fds, pass_fds, cwd, env, startupinfo, creationflags, shell, p2cread, p2cwrite, c2pread, c2pwrite, errread, errwrite, restore_signals, gid, gids, uid, umask, start_new_session, process_group)\u001b[0m\n\u001b[1;32m   1953\u001b[0m     err_msg \u001b[38;5;241m=\u001b[39m os\u001b[38;5;241m.\u001b[39mstrerror(errno_num)\n\u001b[1;32m   1954\u001b[0m \u001b[38;5;28;01mif\u001b[39;00m err_filename \u001b[38;5;129;01mis\u001b[39;00m \u001b[38;5;129;01mnot\u001b[39;00m \u001b[38;5;28;01mNone\u001b[39;00m:\n\u001b[0;32m-> 1955\u001b[0m     \u001b[38;5;28;01mraise\u001b[39;00m child_exception_type(errno_num, err_msg, err_filename)\n\u001b[1;32m   1956\u001b[0m \u001b[38;5;28;01melse\u001b[39;00m:\n\u001b[1;32m   1957\u001b[0m     \u001b[38;5;28;01mraise\u001b[39;00m child_exception_type(errno_num, err_msg)\n",
      "\u001b[0;31mFileNotFoundError\u001b[0m: [Errno 2] No such file or directory: 'mk_prepare_receptor.py --read_pdb ./examples/c-kit/1T46_cleaned.pdb -o r -p -v -g --box_enveloping ./examples/c-kit/STI.pdb --padding 5 -a --default_altloc A'"
     ]
    }
   ],
   "source": [
    "subprocess.Popen(f\"mk_prepare_receptor.py --read_pdb {rc} -o r -p -v -g --box_enveloping {lg} --padding 5 -a --default_altloc A\")"
   ]
  },
  {
   "cell_type": "code",
   "execution_count": 9,
   "id": "84f9cca5-e866-4460-a72b-55679522ea28",
   "metadata": {},
   "outputs": [
    {
     "name": "stdout",
     "output_type": "stream",
     "text": [
      "usage: mk_prepare_receptor.py [-h] [--read_pdb PDB_FILENAME]\n",
      "                              [--read_pqr PQR_FILENAME] [-i MACROMOL_FILENAME]\n",
      "                              [-o OUTPUT_BASENAME] [-p [PDBQT_FILENAME ...]]\n",
      "                              [-j [JSON_FILENAME ...]]\n",
      "                              [--write_pdb [PDB_FILENAME ...]]\n",
      "                              [-g [GPF_FILENAME ...]]\n",
      "                              [-v [VINA_BOX_FILENAME ...]] [-n SET_TEMPLATE]\n",
      "                              [-d DELETE_RESIDUES] [-b BLUNT_ENDS]\n",
      "                              [--add_templates JSON_FILENAME [JSON_FILENAME ...]]\n",
      "                              [--cache_templates [CACHE_TEMPLATES]]\n",
      "                              [--mk_config JSON_FILENAME] [-a]\n",
      "                              [--default_altloc DEFAULT_ALTLOC]\n",
      "                              [--wanted_altloc WANTED_ALTLOC] [-f FLEXRES]\n",
      "                              [--charge_model {gasteiger,espaloma,zero,read}]\n",
      "                              [--box_size X Y Z] [--box_center X Y Z]\n",
      "                              [--box_center_off_reactive_res]\n",
      "                              [--box_enveloping FILENAME] [--padding PADDING]\n",
      "                              [-r REACTIVE_FLEXRES]\n",
      "                              [--reactive_name REACTIVE_NAME]\n",
      "                              [-s REACTIVE_NAME_SPECIFIC] [--r_eq_12 R_EQ_12]\n",
      "                              [--eps_12 EPS_12]\n",
      "                              [--r_eq_13_scaling R_EQ_13_SCALING]\n",
      "                              [--r_eq_14_scaling R_EQ_14_SCALING]\n",
      "\n",
      "options:\n",
      "  -h, --help            show this help message and exit\n",
      "\n",
      "Input/Output:\n",
      "  --read_pdb PDB_FILENAME\n",
      "                        reads PDB, not PDBQT, and does not use ProDy\n",
      "  --read_pqr PQR_FILENAME\n",
      "                        reads PQR and does not use ProDy\n",
      "  -i MACROMOL_FILENAME, --read_with_prody MACROMOL_FILENAME\n",
      "                        reads PDB/mmCIF file with Prody which can be installed\n",
      "                        from PyPI or conda-forge.\n",
      "  -o OUTPUT_BASENAME, --output_basename OUTPUT_BASENAME\n",
      "                        default basename for --write options used without\n",
      "                        filename\n",
      "  -p [PDBQT_FILENAME ...], --write_pdbqt [PDBQT_FILENAME ...]\n",
      "                        adds _rigid/_flex with flexible residues (filename\n",
      "                        defaults to --output_basename when not specified)\n",
      "  -j [JSON_FILENAME ...], --write_json [JSON_FILENAME ...]\n",
      "                        parameterized receptor (filename defaults to\n",
      "                        --output_basename when not specified)\n",
      "  --write_pdb [PDB_FILENAME ...]\n",
      "                        prepared receptor (must specify filename)\n",
      "  -g [GPF_FILENAME ...], --write_gpf [GPF_FILENAME ...]\n",
      "                        autogrid input file (filename defaults to\n",
      "                        --output_basename when not specified)\n",
      "  -v [VINA_BOX_FILENAME ...], --write_vina_box [VINA_BOX_FILENAME ...]\n",
      "                        config file for Vina with box dimensions (filename\n",
      "                        defaults to --output_basename when not specified_\n",
      "\n",
      "Receptor perception:\n",
      "  -n SET_TEMPLATE, --set_template SET_TEMPLATE\n",
      "                        e.g. A:5,7=CYX,B:17=HID\n",
      "  -d DELETE_RESIDUES, --delete_residues DELETE_RESIDUES\n",
      "                        e.g. A:350,B:15,16,17\n",
      "  -b BLUNT_ENDS, --blunt_ends BLUNT_ENDS\n",
      "                        e.g. A:123,200=2,A:1=0\n",
      "  --add_templates JSON_FILENAME [JSON_FILENAME ...]\n",
      "                        [.json]\n",
      "  --cache_templates [CACHE_TEMPLATES]\n",
      "                        Turns on caching of ResidueChemTemplates (default is\n",
      "                        OFF) by this option and (optionally) a provided JSON\n",
      "                        filename. Default cache filename is:\n",
      "                        $HOME/.meeko_residue_chem_templates_cached.json) When\n",
      "                        the caching is ON, the templates for polymer\n",
      "                        construction will be read from the specified cache\n",
      "                        file and updates may be made to the same file in a\n",
      "                        cumulative manner.\n",
      "  --mk_config JSON_FILENAME\n",
      "                        [.json]\n",
      "  -a, --allow_bad_res   delete residues with missing atoms instead of raising\n",
      "                        error\n",
      "  --default_altloc DEFAULT_ALTLOC\n",
      "                        default alternate location (overridden by\n",
      "                        --wanted_altloc)\n",
      "  --wanted_altloc WANTED_ALTLOC\n",
      "                        require altloc for specific residues, e.g. :5=B,B:17=A\n",
      "  -f FLEXRES, --flexres FLEXRES\n",
      "                        specify the flexible residues by the chain ID and\n",
      "                        residue number, e.g. -f \":42,B:23\" is equivalent to -f\n",
      "                        \":42\" -f \"B:23\" (leave chain ID empty if omitted in\n",
      "                        input PDB or mmCIF)\n",
      "  --charge_model {gasteiger,espaloma,zero,read}\n",
      "                        default is gasteiger, 'zero' sets all zeros, 'read'\n",
      "                        requires --read_pqr\n",
      "\n",
      "Size and center of grid box:\n",
      "  --box_size X Y Z      size of grid box (x, y, z) in Angstrom\n",
      "  --box_center X Y Z    center of grid box (x, y, z) in Angstrom\n",
      "  --box_center_off_reactive_res\n",
      "                        project grid box center along CA-CB bond 5 A away from\n",
      "                        CB (only applicable when there is exactly one reactive\n",
      "                        flexible residue)\n",
      "  --box_enveloping FILENAME\n",
      "                        Box will envelop atoms in this file [.sdf .mol .mol2\n",
      "                        .pdb .pdbqt]\n",
      "  --padding PADDING     padding around atoms passed to --box_enveloping [A]\n",
      "\n",
      "Reactive:\n",
      "  -r REACTIVE_FLEXRES, --reactive_flexres REACTIVE_FLEXRES\n",
      "                        same as --flexres but for reactive residues (max 8)\n",
      "  --reactive_name REACTIVE_NAME\n",
      "                        set name of reactive atom of a residue type, e.g:\n",
      "                        --reactive_name 'TRP:NE1'. Repeat flag for multiple\n",
      "                        assignments. Overridden by --reactive_name_specific\n",
      "  -s REACTIVE_NAME_SPECIFIC, --reactive_name_specific REACTIVE_NAME_SPECIFIC\n",
      "                        set name of reactive atom for an individual residue by\n",
      "                        the residue ID, e.g: -s 'A:42=NE2'. Residue will be\n",
      "                        reactive.\n",
      "  --r_eq_12 R_EQ_12     r_eq for reactive atoms (1-2 interaction)\n",
      "  --eps_12 EPS_12       epsilon for reactive atoms (1-2 interaction)\n",
      "  --r_eq_13_scaling R_EQ_13_SCALING\n",
      "                        r_eq scaling for 1-3 interaction across reactive atoms\n",
      "  --r_eq_14_scaling R_EQ_14_SCALING\n",
      "                        r_eq scaling for 1-4 interaction across reactive atoms\n",
      "\n",
      "Need input filename: use either -i/--read_with_prody, --read_pdb or --read_pqr\n"
     ]
    }
   ],
   "source": [
    "! mk_prepare_receptor.py"
   ]
  },
  {
   "cell_type": "code",
   "execution_count": null,
   "id": "251a94fb-cfa2-450f-8d6e-119ad0060820",
   "metadata": {},
   "outputs": [],
   "source": []
  }
 ],
 "metadata": {
  "kernelspec": {
   "display_name": "Python 3 (ipykernel)",
   "language": "python",
   "name": "python3"
  },
  "language_info": {
   "codemirror_mode": {
    "name": "ipython",
    "version": 3
   },
   "file_extension": ".py",
   "mimetype": "text/x-python",
   "name": "python",
   "nbconvert_exporter": "python",
   "pygments_lexer": "ipython3",
   "version": "3.12.7"
  }
 },
 "nbformat": 4,
 "nbformat_minor": 5
}
